{
 "cells": [
  {
   "cell_type": "markdown",
   "metadata": {
    "collapsed": true
   },
   "source": [
    "# TV Show - Jeopardy"
   ]
  },
  {
   "cell_type": "markdown",
   "metadata": {},
   "source": [
    "Imagine that you want to compete on Jeopardy, and you're looking for any way to win. In this project, you'll work with a dataset of Jeopardy questions to figure out some patterns in the questions that could help you win."
   ]
  },
  {
   "cell_type": "code",
   "execution_count": 182,
   "metadata": {
    "collapsed": true
   },
   "outputs": [],
   "source": [
    "import pandas as pd\n",
    "import numpy as np\n",
    "import matplotlib.pyplot as plt\n",
    "import re\n",
    "import random"
   ]
  },
  {
   "cell_type": "code",
   "execution_count": 183,
   "metadata": {
    "collapsed": false
   },
   "outputs": [
    {
     "data": {
      "text/html": [
       "<div>\n",
       "<style scoped>\n",
       "    .dataframe tbody tr th:only-of-type {\n",
       "        vertical-align: middle;\n",
       "    }\n",
       "\n",
       "    .dataframe tbody tr th {\n",
       "        vertical-align: top;\n",
       "    }\n",
       "\n",
       "    .dataframe thead th {\n",
       "        text-align: right;\n",
       "    }\n",
       "</style>\n",
       "<table border=\"1\" class=\"dataframe\">\n",
       "  <thead>\n",
       "    <tr style=\"text-align: right;\">\n",
       "      <th></th>\n",
       "      <th>Show Number</th>\n",
       "      <th>Air Date</th>\n",
       "      <th>Round</th>\n",
       "      <th>Category</th>\n",
       "      <th>Value</th>\n",
       "      <th>Question</th>\n",
       "      <th>Answer</th>\n",
       "    </tr>\n",
       "  </thead>\n",
       "  <tbody>\n",
       "    <tr>\n",
       "      <th>0</th>\n",
       "      <td>4680</td>\n",
       "      <td>2004-12-31</td>\n",
       "      <td>Jeopardy!</td>\n",
       "      <td>HISTORY</td>\n",
       "      <td>$200</td>\n",
       "      <td>For the last 8 years of his life, Galileo was ...</td>\n",
       "      <td>Copernicus</td>\n",
       "    </tr>\n",
       "    <tr>\n",
       "      <th>1</th>\n",
       "      <td>4680</td>\n",
       "      <td>2004-12-31</td>\n",
       "      <td>Jeopardy!</td>\n",
       "      <td>ESPN's TOP 10 ALL-TIME ATHLETES</td>\n",
       "      <td>$200</td>\n",
       "      <td>No. 2: 1912 Olympian; football star at Carlisl...</td>\n",
       "      <td>Jim Thorpe</td>\n",
       "    </tr>\n",
       "    <tr>\n",
       "      <th>2</th>\n",
       "      <td>4680</td>\n",
       "      <td>2004-12-31</td>\n",
       "      <td>Jeopardy!</td>\n",
       "      <td>EVERYBODY TALKS ABOUT IT...</td>\n",
       "      <td>$200</td>\n",
       "      <td>The city of Yuma in this state has a record av...</td>\n",
       "      <td>Arizona</td>\n",
       "    </tr>\n",
       "    <tr>\n",
       "      <th>3</th>\n",
       "      <td>4680</td>\n",
       "      <td>2004-12-31</td>\n",
       "      <td>Jeopardy!</td>\n",
       "      <td>THE COMPANY LINE</td>\n",
       "      <td>$200</td>\n",
       "      <td>In 1963, live on \"The Art Linkletter Show\", th...</td>\n",
       "      <td>McDonald's</td>\n",
       "    </tr>\n",
       "    <tr>\n",
       "      <th>4</th>\n",
       "      <td>4680</td>\n",
       "      <td>2004-12-31</td>\n",
       "      <td>Jeopardy!</td>\n",
       "      <td>EPITAPHS &amp; TRIBUTES</td>\n",
       "      <td>$200</td>\n",
       "      <td>Signer of the Dec. of Indep., framer of the Co...</td>\n",
       "      <td>John Adams</td>\n",
       "    </tr>\n",
       "  </tbody>\n",
       "</table>\n",
       "</div>"
      ],
      "text/plain": [
       "   Show Number    Air Date      Round                         Category  Value  \\\n",
       "0         4680  2004-12-31  Jeopardy!                          HISTORY   $200   \n",
       "1         4680  2004-12-31  Jeopardy!  ESPN's TOP 10 ALL-TIME ATHLETES   $200   \n",
       "2         4680  2004-12-31  Jeopardy!      EVERYBODY TALKS ABOUT IT...   $200   \n",
       "3         4680  2004-12-31  Jeopardy!                 THE COMPANY LINE   $200   \n",
       "4         4680  2004-12-31  Jeopardy!              EPITAPHS & TRIBUTES   $200   \n",
       "\n",
       "                                            Question      Answer  \n",
       "0  For the last 8 years of his life, Galileo was ...  Copernicus  \n",
       "1  No. 2: 1912 Olympian; football star at Carlisl...  Jim Thorpe  \n",
       "2  The city of Yuma in this state has a record av...     Arizona  \n",
       "3  In 1963, live on \"The Art Linkletter Show\", th...  McDonald's  \n",
       "4  Signer of the Dec. of Indep., framer of the Co...  John Adams  "
      ]
     },
     "execution_count": 183,
     "metadata": {},
     "output_type": "execute_result"
    }
   ],
   "source": [
    "jeopardy = pd.read_csv('jeopardy.csv')\n",
    "jeopardy.head(5)"
   ]
  },
  {
   "cell_type": "code",
   "execution_count": 184,
   "metadata": {
    "collapsed": false
   },
   "outputs": [
    {
     "data": {
      "text/plain": [
       "Index(['Show Number', ' Air Date', ' Round', ' Category', ' Value',\n",
       "       ' Question', ' Answer'],\n",
       "      dtype='object')"
      ]
     },
     "execution_count": 184,
     "metadata": {},
     "output_type": "execute_result"
    }
   ],
   "source": [
    "index = jeopardy.columns\n",
    "index"
   ]
  },
  {
   "cell_type": "code",
   "execution_count": 185,
   "metadata": {
    "collapsed": false
   },
   "outputs": [],
   "source": [
    "columns = {}\n",
    "\n",
    "for col in index:\n",
    "    columns[col] = col.strip()\n"
   ]
  },
  {
   "cell_type": "code",
   "execution_count": 186,
   "metadata": {
    "collapsed": false
   },
   "outputs": [
    {
     "data": {
      "text/plain": [
       "Index(['Show Number', 'Air Date', 'Round', 'Category', 'Value', 'Question',\n",
       "       'Answer'],\n",
       "      dtype='object')"
      ]
     },
     "execution_count": 186,
     "metadata": {},
     "output_type": "execute_result"
    }
   ],
   "source": [
    "jeopardy = jeopardy.rename(columns=columns)\n",
    "jeopardy.columns"
   ]
  },
  {
   "cell_type": "markdown",
   "metadata": {},
   "source": [
    "## Normalization "
   ]
  },
  {
   "cell_type": "markdown",
   "metadata": {},
   "source": [
    "To analyze the content of all questions and answers, we should clean the values first. \n",
    "\n",
    "The main steps include:\n",
    "\n",
    "\n",
    "- Normalize the 'Question' and 'Answer' column to make the strings as lowercase and remove the punctuation.\n",
    "\n",
    "- Normalize date and value columns."
   ]
  },
  {
   "cell_type": "code",
   "execution_count": 187,
   "metadata": {
    "collapsed": false
   },
   "outputs": [],
   "source": [
    "def normalization(sentence):\n",
    "    sentence = sentence.lower()\n",
    "    sentence = re.sub('[^A-Za-z0-9\\s]','',sentence)\n",
    "    sentence = re.sub('\\s+',' ', sentence)\n",
    "    return sentence\n",
    "    "
   ]
  },
  {
   "cell_type": "code",
   "execution_count": 188,
   "metadata": {
    "collapsed": false
   },
   "outputs": [],
   "source": [
    "jeopardy['clean_question'] = jeopardy['Question'].apply(normalization)\n",
    "jeopardy['clean_answer'] = jeopardy['Answer'].apply(normalization)"
   ]
  },
  {
   "cell_type": "code",
   "execution_count": 189,
   "metadata": {
    "collapsed": false
   },
   "outputs": [
    {
     "data": {
      "text/html": [
       "<div>\n",
       "<style scoped>\n",
       "    .dataframe tbody tr th:only-of-type {\n",
       "        vertical-align: middle;\n",
       "    }\n",
       "\n",
       "    .dataframe tbody tr th {\n",
       "        vertical-align: top;\n",
       "    }\n",
       "\n",
       "    .dataframe thead th {\n",
       "        text-align: right;\n",
       "    }\n",
       "</style>\n",
       "<table border=\"1\" class=\"dataframe\">\n",
       "  <thead>\n",
       "    <tr style=\"text-align: right;\">\n",
       "      <th></th>\n",
       "      <th>clean_question</th>\n",
       "      <th>clean_answer</th>\n",
       "    </tr>\n",
       "  </thead>\n",
       "  <tbody>\n",
       "    <tr>\n",
       "      <th>0</th>\n",
       "      <td>for the last 8 years of his life galileo was u...</td>\n",
       "      <td>copernicus</td>\n",
       "    </tr>\n",
       "    <tr>\n",
       "      <th>1</th>\n",
       "      <td>no 2 1912 olympian football star at carlisle i...</td>\n",
       "      <td>jim thorpe</td>\n",
       "    </tr>\n",
       "    <tr>\n",
       "      <th>2</th>\n",
       "      <td>the city of yuma in this state has a record av...</td>\n",
       "      <td>arizona</td>\n",
       "    </tr>\n",
       "    <tr>\n",
       "      <th>3</th>\n",
       "      <td>in 1963 live on the art linkletter show this c...</td>\n",
       "      <td>mcdonalds</td>\n",
       "    </tr>\n",
       "    <tr>\n",
       "      <th>4</th>\n",
       "      <td>signer of the dec of indep framer of the const...</td>\n",
       "      <td>john adams</td>\n",
       "    </tr>\n",
       "  </tbody>\n",
       "</table>\n",
       "</div>"
      ],
      "text/plain": [
       "                                      clean_question clean_answer\n",
       "0  for the last 8 years of his life galileo was u...   copernicus\n",
       "1  no 2 1912 olympian football star at carlisle i...   jim thorpe\n",
       "2  the city of yuma in this state has a record av...      arizona\n",
       "3  in 1963 live on the art linkletter show this c...    mcdonalds\n",
       "4  signer of the dec of indep framer of the const...   john adams"
      ]
     },
     "execution_count": 189,
     "metadata": {},
     "output_type": "execute_result"
    }
   ],
   "source": [
    "jeopardy[['clean_question','clean_answer']].head(5)"
   ]
  },
  {
   "cell_type": "markdown",
   "metadata": {},
   "source": [
    "Normalize the 'Value' column to remove the dollar sign and turn the 'Air Date' column as datetime for easily further analysis."
   ]
  },
  {
   "cell_type": "code",
   "execution_count": 190,
   "metadata": {
    "collapsed": true
   },
   "outputs": [],
   "source": [
    "def normalize_value(string):\n",
    "    value = re.sub('[^\\w\\s]','',string)\n",
    "    \n",
    "    try:\n",
    "        value = int(value)\n",
    "    except Exception:\n",
    "        value = 0 \n",
    "        \n",
    "    return value"
   ]
  },
  {
   "cell_type": "code",
   "execution_count": 191,
   "metadata": {
    "collapsed": true
   },
   "outputs": [],
   "source": [
    "jeopardy['clean_value'] = jeopardy['Value'].apply(normalize_value)"
   ]
  },
  {
   "cell_type": "code",
   "execution_count": 192,
   "metadata": {
    "collapsed": false
   },
   "outputs": [],
   "source": [
    "jeopardy['Air Date'] = pd.to_datetime(jeopardy['Air Date'])"
   ]
  },
  {
   "cell_type": "code",
   "execution_count": 193,
   "metadata": {
    "collapsed": false
   },
   "outputs": [
    {
     "data": {
      "text/html": [
       "<div>\n",
       "<style scoped>\n",
       "    .dataframe tbody tr th:only-of-type {\n",
       "        vertical-align: middle;\n",
       "    }\n",
       "\n",
       "    .dataframe tbody tr th {\n",
       "        vertical-align: top;\n",
       "    }\n",
       "\n",
       "    .dataframe thead th {\n",
       "        text-align: right;\n",
       "    }\n",
       "</style>\n",
       "<table border=\"1\" class=\"dataframe\">\n",
       "  <thead>\n",
       "    <tr style=\"text-align: right;\">\n",
       "      <th></th>\n",
       "      <th>Show Number</th>\n",
       "      <th>Air Date</th>\n",
       "      <th>Round</th>\n",
       "      <th>Category</th>\n",
       "      <th>Value</th>\n",
       "      <th>Question</th>\n",
       "      <th>Answer</th>\n",
       "      <th>clean_question</th>\n",
       "      <th>clean_answer</th>\n",
       "      <th>clean_value</th>\n",
       "    </tr>\n",
       "  </thead>\n",
       "  <tbody>\n",
       "    <tr>\n",
       "      <th>0</th>\n",
       "      <td>4680</td>\n",
       "      <td>2004-12-31</td>\n",
       "      <td>Jeopardy!</td>\n",
       "      <td>HISTORY</td>\n",
       "      <td>$200</td>\n",
       "      <td>For the last 8 years of his life, Galileo was ...</td>\n",
       "      <td>Copernicus</td>\n",
       "      <td>for the last 8 years of his life galileo was u...</td>\n",
       "      <td>copernicus</td>\n",
       "      <td>200</td>\n",
       "    </tr>\n",
       "    <tr>\n",
       "      <th>1</th>\n",
       "      <td>4680</td>\n",
       "      <td>2004-12-31</td>\n",
       "      <td>Jeopardy!</td>\n",
       "      <td>ESPN's TOP 10 ALL-TIME ATHLETES</td>\n",
       "      <td>$200</td>\n",
       "      <td>No. 2: 1912 Olympian; football star at Carlisl...</td>\n",
       "      <td>Jim Thorpe</td>\n",
       "      <td>no 2 1912 olympian football star at carlisle i...</td>\n",
       "      <td>jim thorpe</td>\n",
       "      <td>200</td>\n",
       "    </tr>\n",
       "    <tr>\n",
       "      <th>2</th>\n",
       "      <td>4680</td>\n",
       "      <td>2004-12-31</td>\n",
       "      <td>Jeopardy!</td>\n",
       "      <td>EVERYBODY TALKS ABOUT IT...</td>\n",
       "      <td>$200</td>\n",
       "      <td>The city of Yuma in this state has a record av...</td>\n",
       "      <td>Arizona</td>\n",
       "      <td>the city of yuma in this state has a record av...</td>\n",
       "      <td>arizona</td>\n",
       "      <td>200</td>\n",
       "    </tr>\n",
       "    <tr>\n",
       "      <th>3</th>\n",
       "      <td>4680</td>\n",
       "      <td>2004-12-31</td>\n",
       "      <td>Jeopardy!</td>\n",
       "      <td>THE COMPANY LINE</td>\n",
       "      <td>$200</td>\n",
       "      <td>In 1963, live on \"The Art Linkletter Show\", th...</td>\n",
       "      <td>McDonald's</td>\n",
       "      <td>in 1963 live on the art linkletter show this c...</td>\n",
       "      <td>mcdonalds</td>\n",
       "      <td>200</td>\n",
       "    </tr>\n",
       "    <tr>\n",
       "      <th>4</th>\n",
       "      <td>4680</td>\n",
       "      <td>2004-12-31</td>\n",
       "      <td>Jeopardy!</td>\n",
       "      <td>EPITAPHS &amp; TRIBUTES</td>\n",
       "      <td>$200</td>\n",
       "      <td>Signer of the Dec. of Indep., framer of the Co...</td>\n",
       "      <td>John Adams</td>\n",
       "      <td>signer of the dec of indep framer of the const...</td>\n",
       "      <td>john adams</td>\n",
       "      <td>200</td>\n",
       "    </tr>\n",
       "  </tbody>\n",
       "</table>\n",
       "</div>"
      ],
      "text/plain": [
       "   Show Number   Air Date      Round                         Category Value  \\\n",
       "0         4680 2004-12-31  Jeopardy!                          HISTORY  $200   \n",
       "1         4680 2004-12-31  Jeopardy!  ESPN's TOP 10 ALL-TIME ATHLETES  $200   \n",
       "2         4680 2004-12-31  Jeopardy!      EVERYBODY TALKS ABOUT IT...  $200   \n",
       "3         4680 2004-12-31  Jeopardy!                 THE COMPANY LINE  $200   \n",
       "4         4680 2004-12-31  Jeopardy!              EPITAPHS & TRIBUTES  $200   \n",
       "\n",
       "                                            Question      Answer  \\\n",
       "0  For the last 8 years of his life, Galileo was ...  Copernicus   \n",
       "1  No. 2: 1912 Olympian; football star at Carlisl...  Jim Thorpe   \n",
       "2  The city of Yuma in this state has a record av...     Arizona   \n",
       "3  In 1963, live on \"The Art Linkletter Show\", th...  McDonald's   \n",
       "4  Signer of the Dec. of Indep., framer of the Co...  John Adams   \n",
       "\n",
       "                                      clean_question clean_answer  clean_value  \n",
       "0  for the last 8 years of his life galileo was u...   copernicus          200  \n",
       "1  no 2 1912 olympian football star at carlisle i...   jim thorpe          200  \n",
       "2  the city of yuma in this state has a record av...      arizona          200  \n",
       "3  in 1963 live on the art linkletter show this c...    mcdonalds          200  \n",
       "4  signer of the dec of indep framer of the const...   john adams          200  "
      ]
     },
     "execution_count": 193,
     "metadata": {},
     "output_type": "execute_result"
    }
   ],
   "source": [
    "jeopardy.head(5)"
   ]
  },
  {
   "cell_type": "markdown",
   "metadata": {
    "collapsed": true
   },
   "source": [
    "## Analyze the questions in Jeopardy"
   ]
  },
  {
   "cell_type": "markdown",
   "metadata": {},
   "source": [
    "In order to know whether it's useful to study previous question to win, we should figure out the questions:\n",
    "\n",
    "- How often the answer can be used for the questions\n",
    "\n",
    "- How often the questions are repeated\n"
   ]
  },
  {
   "cell_type": "markdown",
   "metadata": {},
   "source": [
    "### 1. Answer in questions"
   ]
  },
  {
   "cell_type": "code",
   "execution_count": 194,
   "metadata": {
    "collapsed": false
   },
   "outputs": [],
   "source": [
    "def split_string(row):\n",
    "    split_answer = row['clean_answer'].split()\n",
    "    split_question = row['clean_question'].split()\n",
    "    \n",
    "    match_count = 0\n",
    "    \n",
    "    for i in split_answer:\n",
    "        if i == 'the':\n",
    "            split_answer.remove(i)\n",
    "        elif i in split_question:\n",
    "            match_count +=1\n",
    "    if len(split_answer) ==0: return 0        \n",
    "    res = match_count / len(split_answer)\n",
    "    return res\n",
    "        "
   ]
  },
  {
   "cell_type": "code",
   "execution_count": 195,
   "metadata": {
    "collapsed": false
   },
   "outputs": [],
   "source": [
    "jeopardy['answer_in_question'] = jeopardy.apply(split_string, axis=1)\n"
   ]
  },
  {
   "cell_type": "code",
   "execution_count": 196,
   "metadata": {
    "collapsed": false
   },
   "outputs": [
    {
     "name": "stdout",
     "output_type": "stream",
     "text": [
      "Among all cases, there was a 6.0% possibility that the answer in the question.\n"
     ]
    }
   ],
   "source": [
    "avg = round(jeopardy['answer_in_question'].mean(), 2)\n",
    "avg = avg*100\n",
    "print('Among all cases, there was a {}% possibility that the answer in the question.'.format(avg))"
   ]
  },
  {
   "cell_type": "markdown",
   "metadata": {},
   "source": [
    "### 2. Repeated questions"
   ]
  },
  {
   "cell_type": "code",
   "execution_count": 197,
   "metadata": {
    "collapsed": false
   },
   "outputs": [
    {
     "name": "stdout",
     "output_type": "stream",
     "text": [
      "[nltk_data] Downloading package stopwords to /home/dq/nltk_data...\n",
      "[nltk_data]   Package stopwords is already up-to-date!\n"
     ]
    },
    {
     "data": {
      "text/plain": [
       "True"
      ]
     },
     "execution_count": 197,
     "metadata": {},
     "output_type": "execute_result"
    }
   ],
   "source": [
    "import nltk\n",
    "nltk.download('stopwords')"
   ]
  },
  {
   "cell_type": "code",
   "execution_count": 198,
   "metadata": {
    "collapsed": true
   },
   "outputs": [],
   "source": [
    "from nltk.corpus import stopwords\n",
    "stop_words = set(stopwords.words('english'))"
   ]
  },
  {
   "cell_type": "code",
   "execution_count": 199,
   "metadata": {
    "collapsed": true
   },
   "outputs": [],
   "source": [
    "# sort the dataframe by date\n",
    "jeopardy = jeopardy.sort_values(by=['Air Date'])"
   ]
  },
  {
   "cell_type": "code",
   "execution_count": 200,
   "metadata": {
    "collapsed": true
   },
   "outputs": [],
   "source": [
    "question_overlap = []\n",
    "terms_used = set()\n",
    "terms_used_list = list()\n",
    "for idx, row in jeopardy.iterrows():\n",
    "    split_question = row['clean_question'].split(' ')\n",
    "    split_question = [w for w in split_question if len(w) >=6 and w not in stop_words]\n",
    "    \n",
    "    match_count = 0\n",
    "    \n",
    "    for w in split_question:\n",
    "        if w in terms_used:\n",
    "            match_count +=1\n",
    "        terms_used.add(w)\n",
    "        terms_used_list.append(w)\n",
    "    if len(split_question) > 0: \n",
    "        rate = match_count / len(split_question)\n",
    "        \n",
    "    question_overlap.append(rate)  \n",
    "    \n",
    "jeopardy['question_overlap'] = question_overlap\n",
    "    "
   ]
  },
  {
   "cell_type": "code",
   "execution_count": 201,
   "metadata": {
    "collapsed": false
   },
   "outputs": [
    {
     "name": "stdout",
     "output_type": "stream",
     "text": [
      "There is 70.0 % of meaningful words overlap.\n"
     ]
    }
   ],
   "source": [
    "question_overlap_mean = round(jeopardy['question_overlap'].mean()*100)\n",
    "\n",
    "print('There is {} % of meaningful words overlap.'.format(question_overlap_mean))"
   ]
  },
  {
   "cell_type": "markdown",
   "metadata": {},
   "source": [
    "## Chi-Squared Test\n",
    "\n",
    "To figure out whether the overlaped words are significant to questions, especially high-valuable questions, can help us earn more money when participants on Jeopardy.\n",
    "\n",
    "We can use the chi-squared test to gather the information based on two catergories: high and low value questions.\n",
    "\n",
    "- **Null Hypothesis** : There is no significant difference of repeated words appearing in high/low valuable questions.\n",
    "\n",
    "\n",
    "- **Alternative Hypothesis**: There is a significant difference of repeated words appearning in high/low valuable questions."
   ]
  },
  {
   "cell_type": "code",
   "execution_count": 202,
   "metadata": {
    "collapsed": false
   },
   "outputs": [
    {
     "data": {
      "text/html": [
       "<div>\n",
       "<style scoped>\n",
       "    .dataframe tbody tr th:only-of-type {\n",
       "        vertical-align: middle;\n",
       "    }\n",
       "\n",
       "    .dataframe tbody tr th {\n",
       "        vertical-align: top;\n",
       "    }\n",
       "\n",
       "    .dataframe thead th {\n",
       "        text-align: right;\n",
       "    }\n",
       "</style>\n",
       "<table border=\"1\" class=\"dataframe\">\n",
       "  <thead>\n",
       "    <tr style=\"text-align: right;\">\n",
       "      <th></th>\n",
       "      <th>Show Number</th>\n",
       "      <th>Air Date</th>\n",
       "      <th>Round</th>\n",
       "      <th>Category</th>\n",
       "      <th>Value</th>\n",
       "      <th>Question</th>\n",
       "      <th>Answer</th>\n",
       "      <th>clean_question</th>\n",
       "      <th>clean_answer</th>\n",
       "      <th>clean_value</th>\n",
       "      <th>answer_in_question</th>\n",
       "      <th>question_overlap</th>\n",
       "      <th>high_value</th>\n",
       "    </tr>\n",
       "  </thead>\n",
       "  <tbody>\n",
       "    <tr>\n",
       "      <th>19325</th>\n",
       "      <td>10</td>\n",
       "      <td>1984-09-21</td>\n",
       "      <td>Final Jeopardy!</td>\n",
       "      <td>U.S. PRESIDENTS</td>\n",
       "      <td>None</td>\n",
       "      <td>Adventurous 26th president, he was 1st to ride...</td>\n",
       "      <td>Theodore Roosevelt</td>\n",
       "      <td>adventurous 26th president he was 1st to ride ...</td>\n",
       "      <td>theodore roosevelt</td>\n",
       "      <td>0</td>\n",
       "      <td>0.0</td>\n",
       "      <td>0.0</td>\n",
       "      <td>0</td>\n",
       "    </tr>\n",
       "    <tr>\n",
       "      <th>19301</th>\n",
       "      <td>10</td>\n",
       "      <td>1984-09-21</td>\n",
       "      <td>Double Jeopardy!</td>\n",
       "      <td>LABOR UNIONS</td>\n",
       "      <td>$200</td>\n",
       "      <td>Notorious labor leader missing since '75</td>\n",
       "      <td>Jimmy Hoffa</td>\n",
       "      <td>notorious labor leader missing since 75</td>\n",
       "      <td>jimmy hoffa</td>\n",
       "      <td>200</td>\n",
       "      <td>0.0</td>\n",
       "      <td>0.0</td>\n",
       "      <td>0</td>\n",
       "    </tr>\n",
       "    <tr>\n",
       "      <th>19302</th>\n",
       "      <td>10</td>\n",
       "      <td>1984-09-21</td>\n",
       "      <td>Double Jeopardy!</td>\n",
       "      <td>1789</td>\n",
       "      <td>$200</td>\n",
       "      <td>Washington proclaimed Nov. 26, 1789 this first...</td>\n",
       "      <td>Thanksgiving</td>\n",
       "      <td>washington proclaimed nov 26 1789 this first n...</td>\n",
       "      <td>thanksgiving</td>\n",
       "      <td>200</td>\n",
       "      <td>0.0</td>\n",
       "      <td>0.0</td>\n",
       "      <td>0</td>\n",
       "    </tr>\n",
       "    <tr>\n",
       "      <th>19303</th>\n",
       "      <td>10</td>\n",
       "      <td>1984-09-21</td>\n",
       "      <td>Double Jeopardy!</td>\n",
       "      <td>TOURIST TRAPS</td>\n",
       "      <td>$200</td>\n",
       "      <td>Both Ferde Grofe' &amp; the Colorado River dug thi...</td>\n",
       "      <td>the Grand Canyon</td>\n",
       "      <td>both ferde grofe the colorado river dug this n...</td>\n",
       "      <td>the grand canyon</td>\n",
       "      <td>200</td>\n",
       "      <td>0.0</td>\n",
       "      <td>0.5</td>\n",
       "      <td>0</td>\n",
       "    </tr>\n",
       "    <tr>\n",
       "      <th>19304</th>\n",
       "      <td>10</td>\n",
       "      <td>1984-09-21</td>\n",
       "      <td>Double Jeopardy!</td>\n",
       "      <td>LITERATURE</td>\n",
       "      <td>$200</td>\n",
       "      <td>Depending on the book, he could be a \"Jones\", ...</td>\n",
       "      <td>Tom</td>\n",
       "      <td>depending on the book he could be a jones a sa...</td>\n",
       "      <td>tom</td>\n",
       "      <td>200</td>\n",
       "      <td>0.0</td>\n",
       "      <td>0.0</td>\n",
       "      <td>0</td>\n",
       "    </tr>\n",
       "  </tbody>\n",
       "</table>\n",
       "</div>"
      ],
      "text/plain": [
       "       Show Number   Air Date             Round         Category Value  \\\n",
       "19325           10 1984-09-21   Final Jeopardy!  U.S. PRESIDENTS  None   \n",
       "19301           10 1984-09-21  Double Jeopardy!     LABOR UNIONS  $200   \n",
       "19302           10 1984-09-21  Double Jeopardy!             1789  $200   \n",
       "19303           10 1984-09-21  Double Jeopardy!    TOURIST TRAPS  $200   \n",
       "19304           10 1984-09-21  Double Jeopardy!       LITERATURE  $200   \n",
       "\n",
       "                                                Question              Answer  \\\n",
       "19325  Adventurous 26th president, he was 1st to ride...  Theodore Roosevelt   \n",
       "19301           Notorious labor leader missing since '75         Jimmy Hoffa   \n",
       "19302  Washington proclaimed Nov. 26, 1789 this first...        Thanksgiving   \n",
       "19303  Both Ferde Grofe' & the Colorado River dug thi...    the Grand Canyon   \n",
       "19304  Depending on the book, he could be a \"Jones\", ...                 Tom   \n",
       "\n",
       "                                          clean_question        clean_answer  \\\n",
       "19325  adventurous 26th president he was 1st to ride ...  theodore roosevelt   \n",
       "19301            notorious labor leader missing since 75         jimmy hoffa   \n",
       "19302  washington proclaimed nov 26 1789 this first n...        thanksgiving   \n",
       "19303  both ferde grofe the colorado river dug this n...    the grand canyon   \n",
       "19304  depending on the book he could be a jones a sa...                 tom   \n",
       "\n",
       "       clean_value  answer_in_question  question_overlap  high_value  \n",
       "19325            0                 0.0               0.0           0  \n",
       "19301          200                 0.0               0.0           0  \n",
       "19302          200                 0.0               0.0           0  \n",
       "19303          200                 0.0               0.5           0  \n",
       "19304          200                 0.0               0.0           0  "
      ]
     },
     "execution_count": 202,
     "metadata": {},
     "output_type": "execute_result"
    }
   ],
   "source": [
    "def sep_value(row):\n",
    "    if row['clean_value'] > 800:\n",
    "        value = 1\n",
    "    else:\n",
    "        value = 0\n",
    "        \n",
    "    return value\n",
    "jeopardy['high_value'] = jeopardy.apply(sep_value, axis=1)\n",
    "jeopardy.head(5)"
   ]
  },
  {
   "cell_type": "markdown",
   "metadata": {},
   "source": [
    "** Steps of chi-squared test**\n",
    "\n",
    "- Loop each items of the repeated words set\n",
    "\n",
    "\n",
    "- assign each word an high and low count representing the occuring frequence in high/low valuable questions. The high/low count are also the real observed results\n",
    "\n",
    "\n",
    "- calculate the expected the values for each world in high/low avluable questions based on the proportation\n",
    "\n",
    "\n",
    "- get the test statistic value for each word, and compare results with the 'critical values of the chi-squared distribution with d degrees of freedom'\n",
    "\n",
    "\n",
    "- gather conclusion"
   ]
  },
  {
   "cell_type": "code",
   "execution_count": 203,
   "metadata": {
    "collapsed": true
   },
   "outputs": [],
   "source": [
    "\n",
    "def word_count(word):\n",
    "    low_count = 0\n",
    "    high_count = 0\n",
    "    \n",
    "    for idx, row in jeopardy.iterrows():\n",
    "        split_question = row['clean_question'].split(' ')\n",
    "        \n",
    "        if word in split_question:\n",
    "            if row['high_value'] ==1:\n",
    "                high_count +=1\n",
    "            else:\n",
    "                low_count+=1\n",
    "    return high_count, low_count            \n",
    "        "
   ]
  },
  {
   "cell_type": "code",
   "execution_count": 204,
   "metadata": {
    "collapsed": false
   },
   "outputs": [],
   "source": [
    "observed_expected = []\n",
    "# select the 100 most frequently appears words as example\n",
    "\n",
    "most_freq_word = list(pd.Series(terms_used_list).value_counts()[:100].index)\n",
    "#most_freq_word "
   ]
  },
  {
   "cell_type": "code",
   "execution_count": 205,
   "metadata": {
    "collapsed": true
   },
   "outputs": [],
   "source": [
    "for word in most_freq_word:\n",
    "    \n",
    "    observed_expected.append(word_count(word)) "
   ]
  },
  {
   "cell_type": "code",
   "execution_count": 206,
   "metadata": {
    "collapsed": false
   },
   "outputs": [
    {
     "name": "stdout",
     "output_type": "stream",
     "text": [
      "5734\n",
      "14265\n"
     ]
    }
   ],
   "source": [
    "high_value_count = len(jeopardy[jeopardy['high_value'] == 1])\n",
    "low_value_count = len(jeopardy[jeopardy['high_value'] == 0])\n",
    "print(high_value_count)\n",
    "print(low_value_count)"
   ]
  },
  {
   "cell_type": "code",
   "execution_count": 207,
   "metadata": {
    "collapsed": true
   },
   "outputs": [],
   "source": [
    "from scipy.stats import chisquare\n",
    "\n",
    "chi_squared = []\n",
    "\n",
    "for k in observed_expected:\n",
    "    total = k[0]+k[1]\n",
    "    total_prop = total / len(jeopardy)\n",
    "    high_expect = total_prop * high_value_count\n",
    "    low_expect = total_prop * low_value_count\n",
    "    \n",
    "    observed = np.array([k[0],k[1]])\n",
    "    expected = np.array([high_expect, low_expect])\n",
    "    \n",
    "    chi_squared.append(chisquare(observed, expected))\n",
    "        "
   ]
  },
  {
   "cell_type": "code",
   "execution_count": 208,
   "metadata": {
    "collapsed": false
   },
   "outputs": [
    {
     "data": {
      "text/plain": [
       "[Power_divergenceResult(statistic=4.048305063534577, pvalue=0.044215717944225866),\n",
       " Power_divergenceResult(statistic=0.29967829483482744, pvalue=0.5840841713114313),\n",
       " Power_divergenceResult(statistic=0.5810990283039111, pvalue=0.4458818590919339),\n",
       " Power_divergenceResult(statistic=0.05956570730840162, pvalue=0.8071836789959332),\n",
       " Power_divergenceResult(statistic=0.22592591114717697, pvalue=0.6345612982626103)]"
      ]
     },
     "execution_count": 208,
     "metadata": {},
     "output_type": "execute_result"
    }
   ],
   "source": [
    "chi_squared[:5]"
   ]
  },
  {
   "cell_type": "markdown",
   "metadata": {
    "collapsed": true
   },
   "source": [
    "** Build a dataframe to clearly show the results of each word**"
   ]
  },
  {
   "cell_type": "code",
   "execution_count": 209,
   "metadata": {
    "collapsed": false
   },
   "outputs": [],
   "source": [
    "word_chisq = pd.DataFrame({\n",
    "          'Word': most_freq_word,\n",
    "          'High_count': [k[0] for k in observed_expected],\n",
    "          'Low_count': [k[1] for k in observed_expected],\n",
    "          'Chi_squared': [k[0] for k in chi_squared],\n",
    "          'P_value':[k[1] for k in chi_squared]\n",
    "          })"
   ]
  },
  {
   "cell_type": "code",
   "execution_count": 210,
   "metadata": {
    "collapsed": false
   },
   "outputs": [],
   "source": [
    "word_chisq = word_chisq.sort_values(by=['Chi_squared'], ascending=False)\n",
    "word_chisq = word_chisq[word_chisq['P_value'] < 0.05]\n",
    "word_chisq = word_chisq.reset_index(drop=True)"
   ]
  },
  {
   "cell_type": "code",
   "execution_count": 211,
   "metadata": {
    "collapsed": false
   },
   "outputs": [
    {
     "data": {
      "text/html": [
       "<div>\n",
       "<style scoped>\n",
       "    .dataframe tbody tr th:only-of-type {\n",
       "        vertical-align: middle;\n",
       "    }\n",
       "\n",
       "    .dataframe tbody tr th {\n",
       "        vertical-align: top;\n",
       "    }\n",
       "\n",
       "    .dataframe thead th {\n",
       "        text-align: right;\n",
       "    }\n",
       "</style>\n",
       "<table border=\"1\" class=\"dataframe\">\n",
       "  <thead>\n",
       "    <tr style=\"text-align: right;\">\n",
       "      <th></th>\n",
       "      <th>Chi_squared</th>\n",
       "      <th>High_count</th>\n",
       "      <th>Low_count</th>\n",
       "      <th>P_value</th>\n",
       "      <th>Word</th>\n",
       "    </tr>\n",
       "  </thead>\n",
       "  <tbody>\n",
       "    <tr>\n",
       "      <th>0</th>\n",
       "      <td>30.705096</td>\n",
       "      <td>108</td>\n",
       "      <td>133</td>\n",
       "      <td>3.003752e-08</td>\n",
       "      <td>french</td>\n",
       "    </tr>\n",
       "    <tr>\n",
       "      <th>1</th>\n",
       "      <td>24.358972</td>\n",
       "      <td>40</td>\n",
       "      <td>33</td>\n",
       "      <td>7.995351e-07</td>\n",
       "      <td>targetblanksarah</td>\n",
       "    </tr>\n",
       "    <tr>\n",
       "      <th>2</th>\n",
       "      <td>22.920157</td>\n",
       "      <td>65</td>\n",
       "      <td>73</td>\n",
       "      <td>1.688716e-06</td>\n",
       "      <td>targetblankthisa</td>\n",
       "    </tr>\n",
       "    <tr>\n",
       "      <th>3</th>\n",
       "      <td>17.283572</td>\n",
       "      <td>35</td>\n",
       "      <td>33</td>\n",
       "      <td>3.219584e-05</td>\n",
       "      <td>african</td>\n",
       "    </tr>\n",
       "    <tr>\n",
       "      <th>4</th>\n",
       "      <td>16.139880</td>\n",
       "      <td>62</td>\n",
       "      <td>79</td>\n",
       "      <td>5.883209e-05</td>\n",
       "      <td>reports</td>\n",
       "    </tr>\n",
       "    <tr>\n",
       "      <th>5</th>\n",
       "      <td>15.028297</td>\n",
       "      <td>97</td>\n",
       "      <td>146</td>\n",
       "      <td>1.059112e-04</td>\n",
       "      <td>targetblankherea</td>\n",
       "    </tr>\n",
       "    <tr>\n",
       "      <th>6</th>\n",
       "      <td>13.635381</td>\n",
       "      <td>45</td>\n",
       "      <td>54</td>\n",
       "      <td>2.219628e-04</td>\n",
       "      <td>italian</td>\n",
       "    </tr>\n",
       "    <tr>\n",
       "      <th>7</th>\n",
       "      <td>12.617237</td>\n",
       "      <td>44</td>\n",
       "      <td>54</td>\n",
       "      <td>3.822059e-04</td>\n",
       "      <td>german</td>\n",
       "    </tr>\n",
       "    <tr>\n",
       "      <th>8</th>\n",
       "      <td>12.115584</td>\n",
       "      <td>34</td>\n",
       "      <td>38</td>\n",
       "      <td>5.000218e-04</td>\n",
       "      <td>ancient</td>\n",
       "    </tr>\n",
       "    <tr>\n",
       "      <th>9</th>\n",
       "      <td>8.432875</td>\n",
       "      <td>14</td>\n",
       "      <td>79</td>\n",
       "      <td>3.684973e-03</td>\n",
       "      <td>countrys</td>\n",
       "    </tr>\n",
       "    <tr>\n",
       "      <th>10</th>\n",
       "      <td>6.629861</td>\n",
       "      <td>33</td>\n",
       "      <td>46</td>\n",
       "      <td>1.002831e-02</td>\n",
       "      <td>stands</td>\n",
       "    </tr>\n",
       "    <tr>\n",
       "      <th>11</th>\n",
       "      <td>6.034956</td>\n",
       "      <td>22</td>\n",
       "      <td>97</td>\n",
       "      <td>1.402530e-02</td>\n",
       "      <td>popular</td>\n",
       "    </tr>\n",
       "    <tr>\n",
       "      <th>12</th>\n",
       "      <td>5.252816</td>\n",
       "      <td>37</td>\n",
       "      <td>57</td>\n",
       "      <td>2.191128e-02</td>\n",
       "      <td>english</td>\n",
       "    </tr>\n",
       "    <tr>\n",
       "      <th>13</th>\n",
       "      <td>4.644947</td>\n",
       "      <td>52</td>\n",
       "      <td>89</td>\n",
       "      <td>3.114509e-02</td>\n",
       "      <td>founded</td>\n",
       "    </tr>\n",
       "    <tr>\n",
       "      <th>14</th>\n",
       "      <td>4.493463</td>\n",
       "      <td>58</td>\n",
       "      <td>102</td>\n",
       "      <td>3.402468e-02</td>\n",
       "      <td>meaning</td>\n",
       "    </tr>\n",
       "    <tr>\n",
       "      <th>15</th>\n",
       "      <td>4.461360</td>\n",
       "      <td>13</td>\n",
       "      <td>61</td>\n",
       "      <td>3.466989e-02</td>\n",
       "      <td>playing</td>\n",
       "    </tr>\n",
       "    <tr>\n",
       "      <th>16</th>\n",
       "      <td>4.401396</td>\n",
       "      <td>73</td>\n",
       "      <td>134</td>\n",
       "      <td>3.590952e-02</td>\n",
       "      <td>island</td>\n",
       "    </tr>\n",
       "    <tr>\n",
       "      <th>17</th>\n",
       "      <td>4.211466</td>\n",
       "      <td>17</td>\n",
       "      <td>73</td>\n",
       "      <td>4.015163e-02</td>\n",
       "      <td>version</td>\n",
       "    </tr>\n",
       "    <tr>\n",
       "      <th>18</th>\n",
       "      <td>4.048305</td>\n",
       "      <td>168</td>\n",
       "      <td>346</td>\n",
       "      <td>4.421572e-02</td>\n",
       "      <td>called</td>\n",
       "    </tr>\n",
       "  </tbody>\n",
       "</table>\n",
       "</div>"
      ],
      "text/plain": [
       "    Chi_squared  High_count  Low_count       P_value              Word\n",
       "0     30.705096         108        133  3.003752e-08            french\n",
       "1     24.358972          40         33  7.995351e-07  targetblanksarah\n",
       "2     22.920157          65         73  1.688716e-06  targetblankthisa\n",
       "3     17.283572          35         33  3.219584e-05           african\n",
       "4     16.139880          62         79  5.883209e-05           reports\n",
       "5     15.028297          97        146  1.059112e-04  targetblankherea\n",
       "6     13.635381          45         54  2.219628e-04           italian\n",
       "7     12.617237          44         54  3.822059e-04            german\n",
       "8     12.115584          34         38  5.000218e-04           ancient\n",
       "9      8.432875          14         79  3.684973e-03          countrys\n",
       "10     6.629861          33         46  1.002831e-02            stands\n",
       "11     6.034956          22         97  1.402530e-02           popular\n",
       "12     5.252816          37         57  2.191128e-02           english\n",
       "13     4.644947          52         89  3.114509e-02           founded\n",
       "14     4.493463          58        102  3.402468e-02           meaning\n",
       "15     4.461360          13         61  3.466989e-02           playing\n",
       "16     4.401396          73        134  3.590952e-02            island\n",
       "17     4.211466          17         73  4.015163e-02           version\n",
       "18     4.048305         168        346  4.421572e-02            called"
      ]
     },
     "execution_count": 211,
     "metadata": {},
     "output_type": "execute_result"
    }
   ],
   "source": [
    "word_chisq"
   ]
  },
  {
   "cell_type": "markdown",
   "metadata": {},
   "source": [
    "Since we only select 100 most frequent words from the repeated list, we can analyze the chi_squared results of these words to initially figure out whether they are meaningful to high/low valuable questions.\n",
    "\n",
    "For each word appearing in the questions, the freedom is one. Assuming the significance level is 0.05, and comparing the test statistic valu (chi_squared) to the chi_square distribution table, we can find that the remained results (we have filtered words which p_value is less than 0.05) can reject the Null hypothesis.\n",
    "\n",
    "Meanwhile, we can also find that these significant words are more frequently occured in low valuable questions, as their low_count are higher than high_count. Therefore, these words may be more valuable to low value questions\n",
    "\n",
    "However, for further analysis, we should make some improvements to increase the precision such as enhance the stopwords list."
   ]
  },
  {
   "cell_type": "markdown",
   "metadata": {},
   "source": [
    "## General analysis"
   ]
  },
  {
   "cell_type": "markdown",
   "metadata": {},
   "source": [
    "### 1. Question Topics"
   ]
  },
  {
   "cell_type": "code",
   "execution_count": 212,
   "metadata": {
    "collapsed": false
   },
   "outputs": [],
   "source": [
    "# frequent categories\n",
    "topics = jeopardy['Category'].value_counts(dropna=False)\n",
    "#topics.value_counts(dropna=False)"
   ]
  },
  {
   "cell_type": "code",
   "execution_count": 213,
   "metadata": {
    "collapsed": false
   },
   "outputs": [],
   "source": [
    "# select categoris occurs more than 6 times\n",
    "popular_topic = topics[topics[topics.index] > 30]"
   ]
  },
  {
   "cell_type": "code",
   "execution_count": 214,
   "metadata": {
    "collapsed": false
   },
   "outputs": [],
   "source": [
    "x = list(popular_topic.index)\n",
    "y = list(popular_topic.values)\n"
   ]
  },
  {
   "cell_type": "code",
   "execution_count": 215,
   "metadata": {
    "collapsed": false
   },
   "outputs": [
    {
     "data": {
      "text/plain": [
       "([<matplotlib.axis.YTick at 0x7f0253ed1550>,\n",
       "  <matplotlib.axis.YTick at 0x7f0253e684e0>,\n",
       "  <matplotlib.axis.YTick at 0x7f0253e581d0>,\n",
       "  <matplotlib.axis.YTick at 0x7f0253376b70>,\n",
       "  <matplotlib.axis.YTick at 0x7f025336f5c0>,\n",
       "  <matplotlib.axis.YTick at 0x7f025336ffd0>,\n",
       "  <matplotlib.axis.YTick at 0x7f025336ca20>,\n",
       "  <matplotlib.axis.YTick at 0x7f0253368470>,\n",
       "  <matplotlib.axis.YTick at 0x7f0253368e80>,\n",
       "  <matplotlib.axis.YTick at 0x7f02533648d0>,\n",
       "  <matplotlib.axis.YTick at 0x7f025335f320>,\n",
       "  <matplotlib.axis.YTick at 0x7f025335fd30>,\n",
       "  <matplotlib.axis.YTick at 0x7f025335b780>,\n",
       "  <matplotlib.axis.YTick at 0x7f02533591d0>,\n",
       "  <matplotlib.axis.YTick at 0x7f0253359be0>,\n",
       "  <matplotlib.axis.YTick at 0x7f02580a0eb8>,\n",
       "  <matplotlib.axis.YTick at 0x7f0253e73cc0>,\n",
       "  <matplotlib.axis.YTick at 0x7f0253352128>,\n",
       "  <matplotlib.axis.YTick at 0x7f02533529e8>,\n",
       "  <matplotlib.axis.YTick at 0x7f0253350438>,\n",
       "  <matplotlib.axis.YTick at 0x7f0253350e48>,\n",
       "  <matplotlib.axis.YTick at 0x7f025334d898>],\n",
       " <a list of 22 Text yticklabel objects>)"
      ]
     },
     "execution_count": 215,
     "metadata": {},
     "output_type": "execute_result"
    },
    {
     "data": {
      "image/png": "[encoded data removed]",
      "text/plain": [
       "<matplotlib.figure.Figure at 0x7f0253e87a90>"
      ]
     },
     "metadata": {},
     "output_type": "display_data"
    }
   ],
   "source": [
    "%matplotlib inline\n",
    "num = range(len(x))\n",
    "plt.figure(figsize=(8,5))\n",
    "plt.barh(num ,y )\n",
    "plt.yticks(num, x)"
   ]
  },
  {
   "cell_type": "markdown",
   "metadata": {},
   "source": [
    "The most popular categories in Jeopardy are listed above, which can be indicatiors for participants to prepare and fill their knowledge gap.\n"
   ]
  },
  {
   "cell_type": "markdown",
   "metadata": {},
   "source": [
    "### 2. Popular categories in different rounds"
   ]
  },
  {
   "cell_type": "code",
   "execution_count": 216,
   "metadata": {
    "collapsed": false
   },
   "outputs": [
    {
     "data": {
      "text/plain": [
       "Jeopardy!           9901\n",
       "Double Jeopardy!    9762\n",
       "Final Jeopardy!      335\n",
       "Tiebreaker             1\n",
       "Name: Round, dtype: int64"
      ]
     },
     "execution_count": 216,
     "metadata": {},
     "output_type": "execute_result"
    }
   ],
   "source": [
    "rounds  = jeopardy['Round'].value_counts(dropna=False)\n",
    "rounds"
   ]
  },
  {
   "cell_type": "code",
   "execution_count": 217,
   "metadata": {
    "collapsed": true
   },
   "outputs": [],
   "source": [
    "round_1 = jeopardy[jeopardy['Round'] == 'Jeopardy!']\n",
    "round_2 = jeopardy[jeopardy['Round'] == 'Double Jeopardy!']\n",
    "round_3 = jeopardy[jeopardy['Round'] == 'Final Jeopardy!']\n"
   ]
  },
  {
   "cell_type": "code",
   "execution_count": 233,
   "metadata": {
    "collapsed": false
   },
   "outputs": [],
   "source": [
    "titles = ['Categories frequency in round_1',\n",
    "          'Categories frequency in round_2',\n",
    "          'Categories frequency in round_3']\n",
    "\n",
    "axs = []\n",
    "ays = []\n",
    "\n",
    "axs.append(list(round_1['Category'].value_counts().index)[:20])\n",
    "ays.append(list(round_1['Category'].value_counts().values)[:20])\n",
    "\n",
    "axs.append(list(round_2['Category'].value_counts().index)[:20])\n",
    "ays.append(list(round_1['Category'].value_counts().values)[:20])\n",
    "\n",
    "axs.append(list(round_3['Category'].value_counts().index)[:20])\n",
    "ays.append(list(round_1['Category'].value_counts().values)[:20])\n"
   ]
  },
  {
   "cell_type": "code",
   "execution_count": 269,
   "metadata": {
    "collapsed": false
   },
   "outputs": [
    {
     "data": {
      "text/plain": [
       "<matplotlib.text.Text at 0x7f02533ca780>"
      ]
     },
     "execution_count": 269,
     "metadata": {},
     "output_type": "execute_result"
    },
    {
     "data": {
      "image/png": "[encoded data removed]",
      "text/plain": [
       "<matplotlib.figure.Figure at 0x7f025197a940>"
      ]
     },
     "metadata": {},
     "output_type": "display_data"
    }
   ],
   "source": [
    "fig = plt.figure(figsize=(30,45))\n",
    "\n",
    "ax1 = fig.add_subplot(3,1,1)\n",
    "ax1.bar(range(20), ays[0], color='lightblue')\n",
    "ax1.set_title(titles[0],fontsize=40)\n",
    "ax1.set_xticks(range(20))\n",
    "ax1.set_xticklabels(axs[0],rotation=90)\n",
    "ax1.set_ylabel('Frequence')\n",
    "\n",
    "ax2 = fig.add_subplot(3,1,2)\n",
    "ax2.bar(range(20), ays[1], color='lightgreen')\n",
    "ax2.set_title(titles[1],fontsize=40)\n",
    "ax2.set_xticks(range(20))\n",
    "ax2.set_xticklabels(axs[1],rotation=90)\n",
    "ax2.set_ylabel('Frequence')\n",
    "\n",
    "ax3 = fig.add_subplot(3,1,3)\n",
    "ax3.bar(range(20), ays[2], color='grey')\n",
    "ax3.set_title(titles[2],fontsize=40)    \n",
    "ax3.set_xticks(range(20))\n",
    "ax3.set_xticklabels(axs[2],rotation=90)\n",
    "ax3.set_ylabel('Frequence')"
   ]
  },
  {
   "cell_type": "code",
   "execution_count": null,
   "metadata": {
    "collapsed": true
   },
   "outputs": [],
   "source": []
  }
 ],
 "metadata": {
  "kernelspec": {
   "display_name": "Python 3",
   "language": "python",
   "name": "python3"
  },
  "language_info": {
   "codemirror_mode": {
    "name": "ipython",
    "version": 3
   },
   "file_extension": ".py",
   "mimetype": "text/x-python",
   "name": "python",
   "nbconvert_exporter": "python",
   "pygments_lexer": "ipython3",
   "version": "3.4.3"
  }
 },
 "nbformat": 4,
 "nbformat_minor": 0
}
