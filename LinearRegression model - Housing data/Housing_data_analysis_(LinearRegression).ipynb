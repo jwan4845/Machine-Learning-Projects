{
 "cells": [
  {
   "cell_type": "markdown",
   "metadata": {
    "collapsed": true
   },
   "source": [
    "# Linear Regression of housing data\n",
    "\n",
    "This project will work on housing data for the city of Ames, kowa, US from 2006 to 2010.\n",
    "\n",
    "The pipeline of functions will be followed as listed:\n",
    "\n",
    "|train|\n",
    "|---|\n",
    "|feature transformation and scaling|\n",
    "|feature selection|\n",
    "|train and test|"
   ]
  },
  {
   "cell_type": "code",
   "execution_count": 1,
   "metadata": {},
   "outputs": [],
   "source": [
    "import pandas as pd\n",
    "import numpy as np\n",
    "import matplotlib.pyplot as plt"
   ]
  },
  {
   "cell_type": "code",
   "execution_count": 2,
   "metadata": {},
   "outputs": [
    {
     "name": "stdout",
     "output_type": "stream",
     "text": [
      "<class 'pandas.core.frame.DataFrame'>\n",
      "RangeIndex: 2930 entries, 0 to 2929\n",
      "Data columns (total 82 columns):\n",
      " #   Column           Non-Null Count  Dtype  \n",
      "---  ------           --------------  -----  \n",
      " 0   Order            2930 non-null   int64  \n",
      " 1   PID              2930 non-null   int64  \n",
      " 2   MS SubClass      2930 non-null   int64  \n",
      " 3   MS Zoning        2930 non-null   object \n",
      " 4   Lot Frontage     2440 non-null   float64\n",
      " 5   Lot Area         2930 non-null   int64  \n",
      " 6   Street           2930 non-null   object \n",
      " 7   Alley            198 non-null    object \n",
      " 8   Lot Shape        2930 non-null   object \n",
      " 9   Land Contour     2930 non-null   object \n",
      " 10  Utilities        2930 non-null   object \n",
      " 11  Lot Config       2930 non-null   object \n",
      " 12  Land Slope       2930 non-null   object \n",
      " 13  Neighborhood     2930 non-null   object \n",
      " 14  Condition 1      2930 non-null   object \n",
      " 15  Condition 2      2930 non-null   object \n",
      " 16  Bldg Type        2930 non-null   object \n",
      " 17  House Style      2930 non-null   object \n",
      " 18  Overall Qual     2930 non-null   int64  \n",
      " 19  Overall Cond     2930 non-null   int64  \n",
      " 20  Year Built       2930 non-null   int64  \n",
      " 21  Year Remod/Add   2930 non-null   int64  \n",
      " 22  Roof Style       2930 non-null   object \n",
      " 23  Roof Matl        2930 non-null   object \n",
      " 24  Exterior 1st     2930 non-null   object \n",
      " 25  Exterior 2nd     2930 non-null   object \n",
      " 26  Mas Vnr Type     2907 non-null   object \n",
      " 27  Mas Vnr Area     2907 non-null   float64\n",
      " 28  Exter Qual       2930 non-null   object \n",
      " 29  Exter Cond       2930 non-null   object \n",
      " 30  Foundation       2930 non-null   object \n",
      " 31  Bsmt Qual        2850 non-null   object \n",
      " 32  Bsmt Cond        2850 non-null   object \n",
      " 33  Bsmt Exposure    2847 non-null   object \n",
      " 34  BsmtFin Type 1   2850 non-null   object \n",
      " 35  BsmtFin SF 1     2929 non-null   float64\n",
      " 36  BsmtFin Type 2   2849 non-null   object \n",
      " 37  BsmtFin SF 2     2929 non-null   float64\n",
      " 38  Bsmt Unf SF      2929 non-null   float64\n",
      " 39  Total Bsmt SF    2929 non-null   float64\n",
      " 40  Heating          2930 non-null   object \n",
      " 41  Heating QC       2930 non-null   object \n",
      " 42  Central Air      2930 non-null   object \n",
      " 43  Electrical       2929 non-null   object \n",
      " 44  1st Flr SF       2930 non-null   int64  \n",
      " 45  2nd Flr SF       2930 non-null   int64  \n",
      " 46  Low Qual Fin SF  2930 non-null   int64  \n",
      " 47  Gr Liv Area      2930 non-null   int64  \n",
      " 48  Bsmt Full Bath   2928 non-null   float64\n",
      " 49  Bsmt Half Bath   2928 non-null   float64\n",
      " 50  Full Bath        2930 non-null   int64  \n",
      " 51  Half Bath        2930 non-null   int64  \n",
      " 52  Bedroom AbvGr    2930 non-null   int64  \n",
      " 53  Kitchen AbvGr    2930 non-null   int64  \n",
      " 54  Kitchen Qual     2930 non-null   object \n",
      " 55  TotRms AbvGrd    2930 non-null   int64  \n",
      " 56  Functional       2930 non-null   object \n",
      " 57  Fireplaces       2930 non-null   int64  \n",
      " 58  Fireplace Qu     1508 non-null   object \n",
      " 59  Garage Type      2773 non-null   object \n",
      " 60  Garage Yr Blt    2771 non-null   float64\n",
      " 61  Garage Finish    2771 non-null   object \n",
      " 62  Garage Cars      2929 non-null   float64\n",
      " 63  Garage Area      2929 non-null   float64\n",
      " 64  Garage Qual      2771 non-null   object \n",
      " 65  Garage Cond      2771 non-null   object \n",
      " 66  Paved Drive      2930 non-null   object \n",
      " 67  Wood Deck SF     2930 non-null   int64  \n",
      " 68  Open Porch SF    2930 non-null   int64  \n",
      " 69  Enclosed Porch   2930 non-null   int64  \n",
      " 70  3Ssn Porch       2930 non-null   int64  \n",
      " 71  Screen Porch     2930 non-null   int64  \n",
      " 72  Pool Area        2930 non-null   int64  \n",
      " 73  Pool QC          13 non-null     object \n",
      " 74  Fence            572 non-null    object \n",
      " 75  Misc Feature     106 non-null    object \n",
      " 76  Misc Val         2930 non-null   int64  \n",
      " 77  Mo Sold          2930 non-null   int64  \n",
      " 78  Yr Sold          2930 non-null   int64  \n",
      " 79  Sale Type        2930 non-null   object \n",
      " 80  Sale Condition   2930 non-null   object \n",
      " 81  SalePrice        2930 non-null   int64  \n",
      "dtypes: float64(11), int64(28), object(43)\n",
      "memory usage: 1.8+ MB\n"
     ]
    }
   ],
   "source": [
    "df = pd.read_csv('AmesHousing.txt',sep='\\t')\n",
    "df.info()"
   ]
  },
  {
   "cell_type": "markdown",
   "metadata": {},
   "source": [
    "## features transformation and selection\n",
    "\n",
    "-  drop columns contain over 5% missing values\n",
    "-  drop columns leak the sale price\n",
    "-  transform features to proper format(numerical / catergorical/ scalling...)\n",
    "-  feature engineering: create new features by combing other features\n"
   ]
  },
  {
   "cell_type": "markdown",
   "metadata": {},
   "source": [
    "1.drop missing values"
   ]
  },
  {
   "cell_type": "code",
   "execution_count": 5,
   "metadata": {},
   "outputs": [],
   "source": [
    "# filter columns contain over 5% missing values\n",
    "\n",
    "missing_value = df.isnull().sum()\n",
    "drop_colums = missing_value[missing_value > len(df)*0.05].index\n",
    "df = df.drop(drop_colums, axis=1)"
   ]
  },
  {
   "cell_type": "code",
   "execution_count": 6,
   "metadata": {},
   "outputs": [],
   "source": [
    "# drop 'object' columns with 1 or more missing values\n",
    "\n",
    "null_text_columns = df.select_dtypes(include=['object']).isnull().sum()\n",
    "text_columns_drop = null_text_columns[null_text_columns > 0].index\n",
    "df = df.drop(text_columns_drop, axis=1)"
   ]
  },
  {
   "cell_type": "code",
   "execution_count": 7,
   "metadata": {},
   "outputs": [],
   "source": [
    "# fill numeric missing values with the mean values\n",
    "num_columns = df.select_dtypes(include=['float', 'int']).isnull().sum()\n",
    "num_null_index = num_columns[num_columns > 0].index\n",
    "# compute the most common values to fill the missing vaues\n",
    "\n",
    "fill_values = df[num_null_index].mode().to_dict(orient = 'records')[0]\n",
    "\n",
    "df = df.fillna(fill_values)\n",
    "#df.isnull().sum()\n"
   ]
  },
  {
   "cell_type": "markdown",
   "metadata": {},
   "source": [
    "2.create new features"
   ]
  },
  {
   "cell_type": "code",
   "execution_count": 8,
   "metadata": {},
   "outputs": [
    {
     "data": {
      "text/plain": [
       "2180   -1\n",
       "dtype: int64"
      ]
     },
     "execution_count": 8,
     "metadata": {},
     "output_type": "execute_result"
    }
   ],
   "source": [
    "years_to_sell = df['Yr Sold'] - df['Year Built']\n",
    "\n",
    "years_remod = df['Yr Sold'] - df['Year Remod/Add']\n",
    "\n",
    "# the new columns should contains no negative vlues, if it does, remove\n",
    "\n",
    "years_to_sell[years_to_sell < 0]"
   ]
  },
  {
   "cell_type": "code",
   "execution_count": 9,
   "metadata": {},
   "outputs": [
    {
     "data": {
      "text/plain": [
       "1702   -1\n",
       "2180   -2\n",
       "2181   -1\n",
       "dtype: int64"
      ]
     },
     "execution_count": 9,
     "metadata": {},
     "output_type": "execute_result"
    }
   ],
   "source": [
    "years_remod[years_remod <0]\n",
    "\n",
    "# Hence, we should remove these rows"
   ]
  },
  {
   "cell_type": "code",
   "execution_count": 12,
   "metadata": {
    "collapsed": true
   },
   "outputs": [],
   "source": [
    "df['years_to_sell'] = df['Yr Sold'] - df['Year Built']\n",
    "df['years_until_remod'] = years_remod = df['Yr Sold'] - df['Year Remod/Add']"
   ]
  },
  {
   "cell_type": "code",
   "execution_count": 13,
   "metadata": {},
   "outputs": [],
   "source": [
    "df = df.drop([1702, 2180, 2181], axis=0)\n",
    "df = df.drop(columns=['Yr Sold', 'Year Built', 'Year Remod/Add'])"
   ]
  },
  {
   "cell_type": "markdown",
   "metadata": {},
   "source": [
    "3.Updated the function to transform features"
   ]
  },
  {
   "cell_type": "code",
   "execution_count": 3,
   "metadata": {},
   "outputs": [],
   "source": [
    "def transform_features(df):\n",
    "    # drop all columns with over 5% missing values\n",
    "    all_missing = df.isnull().sum()\n",
    "    drop_all = all_missing[all_missing > len(df)*0.05]\n",
    "    df = df.drop(drop_all.index, axis=1)\n",
    "    \n",
    "    # drop 'object' columns with one or more missing values\n",
    "    text_missing = df.select_dtypes(include=['object']).isnull().sum()\n",
    "    drop_text = text_missing[text_missing > 0]\n",
    "    df = df.drop(drop_text.index, axis=1)\n",
    "    \n",
    "    # fill numeric columns' missing values with most common value\n",
    "    num_missing = df.select_dtypes(include=['int','float']).isnull().sum()\n",
    "    num_filling = num_missing[num_missing > 0]\n",
    "    fill_value = df[num_filling.index].mode().to_dict(orient='records')[0]\n",
    "    df = df.fillna(fill_value)\n",
    "    \n",
    "    #create new features\n",
    "    df['years_to_sell'] = df['Yr Sold'] - df['Year Built']\n",
    "    df['years_until_remod'] = years_remod = df['Yr Sold'] - df['Year Remod/Add']  \n",
    "    df = df.drop([1702, 2180, 2181], axis=0)\n",
    "\n",
    "    # drop columns aren't useful for machine learning and leak info of final sale\n",
    "    useless_columns = [\"PID\", \"Order\", \"Mo Sold\", \"Sale Condition\", \n",
    "                       \"Sale Type\", \"Year Built\", \"Year Remod/Add\"]\n",
    "    df = df.drop(useless_columns, axis=1)\n",
    "    \n",
    "    return df\n",
    "\n"
   ]
  },
  {
   "cell_type": "markdown",
   "metadata": {},
   "source": [
    "## Feature selection"
   ]
  },
  {
   "cell_type": "code",
   "execution_count": 4,
   "metadata": {},
   "outputs": [
    {
     "data": {
      "text/html": [
       "<div>\n",
       "<style scoped>\n",
       "    .dataframe tbody tr th:only-of-type {\n",
       "        vertical-align: middle;\n",
       "    }\n",
       "\n",
       "    .dataframe tbody tr th {\n",
       "        vertical-align: top;\n",
       "    }\n",
       "\n",
       "    .dataframe thead th {\n",
       "        text-align: right;\n",
       "    }\n",
       "</style>\n",
       "<table border=\"1\" class=\"dataframe\">\n",
       "  <thead>\n",
       "    <tr style=\"text-align: right;\">\n",
       "      <th></th>\n",
       "      <th>MS SubClass</th>\n",
       "      <th>MS Zoning</th>\n",
       "      <th>Lot Area</th>\n",
       "      <th>Street</th>\n",
       "      <th>Lot Shape</th>\n",
       "      <th>Land Contour</th>\n",
       "      <th>Utilities</th>\n",
       "      <th>Lot Config</th>\n",
       "      <th>Land Slope</th>\n",
       "      <th>Neighborhood</th>\n",
       "      <th>...</th>\n",
       "      <th>Open Porch SF</th>\n",
       "      <th>Enclosed Porch</th>\n",
       "      <th>3Ssn Porch</th>\n",
       "      <th>Screen Porch</th>\n",
       "      <th>Pool Area</th>\n",
       "      <th>Misc Val</th>\n",
       "      <th>Yr Sold</th>\n",
       "      <th>SalePrice</th>\n",
       "      <th>years_to_sell</th>\n",
       "      <th>years_until_remod</th>\n",
       "    </tr>\n",
       "  </thead>\n",
       "  <tbody>\n",
       "    <tr>\n",
       "      <th>0</th>\n",
       "      <td>20</td>\n",
       "      <td>RL</td>\n",
       "      <td>31770</td>\n",
       "      <td>Pave</td>\n",
       "      <td>IR1</td>\n",
       "      <td>Lvl</td>\n",
       "      <td>AllPub</td>\n",
       "      <td>Corner</td>\n",
       "      <td>Gtl</td>\n",
       "      <td>NAmes</td>\n",
       "      <td>...</td>\n",
       "      <td>62</td>\n",
       "      <td>0</td>\n",
       "      <td>0</td>\n",
       "      <td>0</td>\n",
       "      <td>0</td>\n",
       "      <td>0</td>\n",
       "      <td>2010</td>\n",
       "      <td>215000</td>\n",
       "      <td>50</td>\n",
       "      <td>50</td>\n",
       "    </tr>\n",
       "    <tr>\n",
       "      <th>1</th>\n",
       "      <td>20</td>\n",
       "      <td>RH</td>\n",
       "      <td>11622</td>\n",
       "      <td>Pave</td>\n",
       "      <td>Reg</td>\n",
       "      <td>Lvl</td>\n",
       "      <td>AllPub</td>\n",
       "      <td>Inside</td>\n",
       "      <td>Gtl</td>\n",
       "      <td>NAmes</td>\n",
       "      <td>...</td>\n",
       "      <td>0</td>\n",
       "      <td>0</td>\n",
       "      <td>0</td>\n",
       "      <td>120</td>\n",
       "      <td>0</td>\n",
       "      <td>0</td>\n",
       "      <td>2010</td>\n",
       "      <td>105000</td>\n",
       "      <td>49</td>\n",
       "      <td>49</td>\n",
       "    </tr>\n",
       "    <tr>\n",
       "      <th>2</th>\n",
       "      <td>20</td>\n",
       "      <td>RL</td>\n",
       "      <td>14267</td>\n",
       "      <td>Pave</td>\n",
       "      <td>IR1</td>\n",
       "      <td>Lvl</td>\n",
       "      <td>AllPub</td>\n",
       "      <td>Corner</td>\n",
       "      <td>Gtl</td>\n",
       "      <td>NAmes</td>\n",
       "      <td>...</td>\n",
       "      <td>36</td>\n",
       "      <td>0</td>\n",
       "      <td>0</td>\n",
       "      <td>0</td>\n",
       "      <td>0</td>\n",
       "      <td>12500</td>\n",
       "      <td>2010</td>\n",
       "      <td>172000</td>\n",
       "      <td>52</td>\n",
       "      <td>52</td>\n",
       "    </tr>\n",
       "    <tr>\n",
       "      <th>3</th>\n",
       "      <td>20</td>\n",
       "      <td>RL</td>\n",
       "      <td>11160</td>\n",
       "      <td>Pave</td>\n",
       "      <td>Reg</td>\n",
       "      <td>Lvl</td>\n",
       "      <td>AllPub</td>\n",
       "      <td>Corner</td>\n",
       "      <td>Gtl</td>\n",
       "      <td>NAmes</td>\n",
       "      <td>...</td>\n",
       "      <td>0</td>\n",
       "      <td>0</td>\n",
       "      <td>0</td>\n",
       "      <td>0</td>\n",
       "      <td>0</td>\n",
       "      <td>0</td>\n",
       "      <td>2010</td>\n",
       "      <td>244000</td>\n",
       "      <td>42</td>\n",
       "      <td>42</td>\n",
       "    </tr>\n",
       "    <tr>\n",
       "      <th>4</th>\n",
       "      <td>60</td>\n",
       "      <td>RL</td>\n",
       "      <td>13830</td>\n",
       "      <td>Pave</td>\n",
       "      <td>IR1</td>\n",
       "      <td>Lvl</td>\n",
       "      <td>AllPub</td>\n",
       "      <td>Inside</td>\n",
       "      <td>Gtl</td>\n",
       "      <td>Gilbert</td>\n",
       "      <td>...</td>\n",
       "      <td>34</td>\n",
       "      <td>0</td>\n",
       "      <td>0</td>\n",
       "      <td>0</td>\n",
       "      <td>0</td>\n",
       "      <td>0</td>\n",
       "      <td>2010</td>\n",
       "      <td>189900</td>\n",
       "      <td>13</td>\n",
       "      <td>12</td>\n",
       "    </tr>\n",
       "  </tbody>\n",
       "</table>\n",
       "<p>5 rows × 59 columns</p>\n",
       "</div>"
      ],
      "text/plain": [
       "   MS SubClass MS Zoning  Lot Area Street Lot Shape Land Contour Utilities  \\\n",
       "0           20        RL     31770   Pave       IR1          Lvl    AllPub   \n",
       "1           20        RH     11622   Pave       Reg          Lvl    AllPub   \n",
       "2           20        RL     14267   Pave       IR1          Lvl    AllPub   \n",
       "3           20        RL     11160   Pave       Reg          Lvl    AllPub   \n",
       "4           60        RL     13830   Pave       IR1          Lvl    AllPub   \n",
       "\n",
       "  Lot Config Land Slope Neighborhood  ... Open Porch SF Enclosed Porch  \\\n",
       "0     Corner        Gtl        NAmes  ...            62              0   \n",
       "1     Inside        Gtl        NAmes  ...             0              0   \n",
       "2     Corner        Gtl        NAmes  ...            36              0   \n",
       "3     Corner        Gtl        NAmes  ...             0              0   \n",
       "4     Inside        Gtl      Gilbert  ...            34              0   \n",
       "\n",
       "  3Ssn Porch Screen Porch  Pool Area  Misc Val Yr Sold SalePrice  \\\n",
       "0          0            0          0         0    2010    215000   \n",
       "1          0          120          0         0    2010    105000   \n",
       "2          0            0          0     12500    2010    172000   \n",
       "3          0            0          0         0    2010    244000   \n",
       "4          0            0          0         0    2010    189900   \n",
       "\n",
       "  years_to_sell years_until_remod  \n",
       "0            50                50  \n",
       "1            49                49  \n",
       "2            52                52  \n",
       "3            42                42  \n",
       "4            13                12  \n",
       "\n",
       "[5 rows x 59 columns]"
      ]
     },
     "execution_count": 4,
     "metadata": {},
     "output_type": "execute_result"
    }
   ],
   "source": [
    "df = transform_features(df)\n",
    "df.head(5)"
   ]
  },
  {
   "cell_type": "markdown",
   "metadata": {},
   "source": [
    "### Numeric features"
   ]
  },
  {
   "cell_type": "code",
   "execution_count": 5,
   "metadata": {},
   "outputs": [
    {
     "data": {
      "text/html": [
       "<div>\n",
       "<style scoped>\n",
       "    .dataframe tbody tr th:only-of-type {\n",
       "        vertical-align: middle;\n",
       "    }\n",
       "\n",
       "    .dataframe tbody tr th {\n",
       "        vertical-align: top;\n",
       "    }\n",
       "\n",
       "    .dataframe thead th {\n",
       "        text-align: right;\n",
       "    }\n",
       "</style>\n",
       "<table border=\"1\" class=\"dataframe\">\n",
       "  <thead>\n",
       "    <tr style=\"text-align: right;\">\n",
       "      <th></th>\n",
       "      <th>MS SubClass</th>\n",
       "      <th>Lot Area</th>\n",
       "      <th>Overall Qual</th>\n",
       "      <th>Overall Cond</th>\n",
       "      <th>Mas Vnr Area</th>\n",
       "      <th>BsmtFin SF 1</th>\n",
       "      <th>BsmtFin SF 2</th>\n",
       "      <th>Bsmt Unf SF</th>\n",
       "      <th>Total Bsmt SF</th>\n",
       "      <th>1st Flr SF</th>\n",
       "      <th>...</th>\n",
       "      <th>Open Porch SF</th>\n",
       "      <th>Enclosed Porch</th>\n",
       "      <th>3Ssn Porch</th>\n",
       "      <th>Screen Porch</th>\n",
       "      <th>Pool Area</th>\n",
       "      <th>Misc Val</th>\n",
       "      <th>Yr Sold</th>\n",
       "      <th>SalePrice</th>\n",
       "      <th>years_to_sell</th>\n",
       "      <th>years_until_remod</th>\n",
       "    </tr>\n",
       "  </thead>\n",
       "  <tbody>\n",
       "    <tr>\n",
       "      <th>0</th>\n",
       "      <td>20</td>\n",
       "      <td>31770</td>\n",
       "      <td>6</td>\n",
       "      <td>5</td>\n",
       "      <td>112.0</td>\n",
       "      <td>639.0</td>\n",
       "      <td>0.0</td>\n",
       "      <td>441.0</td>\n",
       "      <td>1080.0</td>\n",
       "      <td>1656</td>\n",
       "      <td>...</td>\n",
       "      <td>62</td>\n",
       "      <td>0</td>\n",
       "      <td>0</td>\n",
       "      <td>0</td>\n",
       "      <td>0</td>\n",
       "      <td>0</td>\n",
       "      <td>2010</td>\n",
       "      <td>215000</td>\n",
       "      <td>50</td>\n",
       "      <td>50</td>\n",
       "    </tr>\n",
       "    <tr>\n",
       "      <th>1</th>\n",
       "      <td>20</td>\n",
       "      <td>11622</td>\n",
       "      <td>5</td>\n",
       "      <td>6</td>\n",
       "      <td>0.0</td>\n",
       "      <td>468.0</td>\n",
       "      <td>144.0</td>\n",
       "      <td>270.0</td>\n",
       "      <td>882.0</td>\n",
       "      <td>896</td>\n",
       "      <td>...</td>\n",
       "      <td>0</td>\n",
       "      <td>0</td>\n",
       "      <td>0</td>\n",
       "      <td>120</td>\n",
       "      <td>0</td>\n",
       "      <td>0</td>\n",
       "      <td>2010</td>\n",
       "      <td>105000</td>\n",
       "      <td>49</td>\n",
       "      <td>49</td>\n",
       "    </tr>\n",
       "    <tr>\n",
       "      <th>2</th>\n",
       "      <td>20</td>\n",
       "      <td>14267</td>\n",
       "      <td>6</td>\n",
       "      <td>6</td>\n",
       "      <td>108.0</td>\n",
       "      <td>923.0</td>\n",
       "      <td>0.0</td>\n",
       "      <td>406.0</td>\n",
       "      <td>1329.0</td>\n",
       "      <td>1329</td>\n",
       "      <td>...</td>\n",
       "      <td>36</td>\n",
       "      <td>0</td>\n",
       "      <td>0</td>\n",
       "      <td>0</td>\n",
       "      <td>0</td>\n",
       "      <td>12500</td>\n",
       "      <td>2010</td>\n",
       "      <td>172000</td>\n",
       "      <td>52</td>\n",
       "      <td>52</td>\n",
       "    </tr>\n",
       "    <tr>\n",
       "      <th>3</th>\n",
       "      <td>20</td>\n",
       "      <td>11160</td>\n",
       "      <td>7</td>\n",
       "      <td>5</td>\n",
       "      <td>0.0</td>\n",
       "      <td>1065.0</td>\n",
       "      <td>0.0</td>\n",
       "      <td>1045.0</td>\n",
       "      <td>2110.0</td>\n",
       "      <td>2110</td>\n",
       "      <td>...</td>\n",
       "      <td>0</td>\n",
       "      <td>0</td>\n",
       "      <td>0</td>\n",
       "      <td>0</td>\n",
       "      <td>0</td>\n",
       "      <td>0</td>\n",
       "      <td>2010</td>\n",
       "      <td>244000</td>\n",
       "      <td>42</td>\n",
       "      <td>42</td>\n",
       "    </tr>\n",
       "    <tr>\n",
       "      <th>4</th>\n",
       "      <td>60</td>\n",
       "      <td>13830</td>\n",
       "      <td>5</td>\n",
       "      <td>5</td>\n",
       "      <td>0.0</td>\n",
       "      <td>791.0</td>\n",
       "      <td>0.0</td>\n",
       "      <td>137.0</td>\n",
       "      <td>928.0</td>\n",
       "      <td>928</td>\n",
       "      <td>...</td>\n",
       "      <td>34</td>\n",
       "      <td>0</td>\n",
       "      <td>0</td>\n",
       "      <td>0</td>\n",
       "      <td>0</td>\n",
       "      <td>0</td>\n",
       "      <td>2010</td>\n",
       "      <td>189900</td>\n",
       "      <td>13</td>\n",
       "      <td>12</td>\n",
       "    </tr>\n",
       "  </tbody>\n",
       "</table>\n",
       "<p>5 rows × 34 columns</p>\n",
       "</div>"
      ],
      "text/plain": [
       "   MS SubClass  Lot Area  Overall Qual  Overall Cond  Mas Vnr Area  \\\n",
       "0           20     31770             6             5         112.0   \n",
       "1           20     11622             5             6           0.0   \n",
       "2           20     14267             6             6         108.0   \n",
       "3           20     11160             7             5           0.0   \n",
       "4           60     13830             5             5           0.0   \n",
       "\n",
       "   BsmtFin SF 1  BsmtFin SF 2  Bsmt Unf SF  Total Bsmt SF  1st Flr SF  \\\n",
       "0         639.0           0.0        441.0         1080.0        1656   \n",
       "1         468.0         144.0        270.0          882.0         896   \n",
       "2         923.0           0.0        406.0         1329.0        1329   \n",
       "3        1065.0           0.0       1045.0         2110.0        2110   \n",
       "4         791.0           0.0        137.0          928.0         928   \n",
       "\n",
       "         ...          Open Porch SF  Enclosed Porch  3Ssn Porch  Screen Porch  \\\n",
       "0        ...                     62               0           0             0   \n",
       "1        ...                      0               0           0           120   \n",
       "2        ...                     36               0           0             0   \n",
       "3        ...                      0               0           0             0   \n",
       "4        ...                     34               0           0             0   \n",
       "\n",
       "   Pool Area  Misc Val  Yr Sold  SalePrice  years_to_sell  years_until_remod  \n",
       "0          0         0     2010     215000             50                 50  \n",
       "1          0         0     2010     105000             49                 49  \n",
       "2          0     12500     2010     172000             52                 52  \n",
       "3          0         0     2010     244000             42                 42  \n",
       "4          0         0     2010     189900             13                 12  \n",
       "\n",
       "[5 rows x 34 columns]"
      ]
     },
     "execution_count": 5,
     "metadata": {},
     "output_type": "execute_result"
    }
   ],
   "source": [
    "numeric_columns = df.select_dtypes(include=['int','float'])\n",
    "numeric_columns.head()"
   ]
  },
  {
   "cell_type": "code",
   "execution_count": 6,
   "metadata": {},
   "outputs": [
    {
     "data": {
      "text/plain": [
       "BsmtFin SF 2         0.006127\n",
       "Misc Val             0.019273\n",
       "Yr Sold              0.030358\n",
       "3Ssn Porch           0.032268\n",
       "Bsmt Half Bath       0.035875\n",
       "Low Qual Fin SF      0.037629\n",
       "Pool Area            0.068438\n",
       "MS SubClass          0.085128\n",
       "Overall Cond         0.101540\n",
       "Screen Porch         0.112280\n",
       "Kitchen AbvGr        0.119760\n",
       "Enclosed Porch       0.128685\n",
       "Bedroom AbvGr        0.143916\n",
       "Bsmt Unf SF          0.182751\n",
       "Lot Area             0.267520\n",
       "2nd Flr SF           0.269601\n",
       "Bsmt Full Bath       0.276258\n",
       "Half Bath            0.284871\n",
       "Open Porch SF        0.316262\n",
       "Wood Deck SF         0.328183\n",
       "BsmtFin SF 1         0.439284\n",
       "Fireplaces           0.474831\n",
       "TotRms AbvGrd        0.498574\n",
       "Mas Vnr Area         0.506983\n",
       "years_until_remod    0.534985\n",
       "Full Bath            0.546118\n",
       "years_to_sell        0.558979\n",
       "1st Flr SF           0.635185\n",
       "Garage Area          0.641425\n",
       "Total Bsmt SF        0.644012\n",
       "Garage Cars          0.648361\n",
       "Gr Liv Area          0.717596\n",
       "Overall Qual         0.801206\n",
       "SalePrice            1.000000\n",
       "Name: SalePrice, dtype: float64"
      ]
     },
     "execution_count": 6,
     "metadata": {},
     "output_type": "execute_result"
    }
   ],
   "source": [
    "corrs = numeric_columns.corr()\n",
    "corrs['SalePrice'].abs().sort_values()"
   ]
  },
  {
   "cell_type": "markdown",
   "metadata": {},
   "source": [
    "|feature|corr num|\n",
    "|---|---|\n",
    "|Bsmt Unf SF|0.182751|\n",
    "|Lot Area|0.267520|\n",
    "\n",
    "\n",
    "the correlation coefficient number between 'Bsmt Unf SF' and 'Lot Area' are much different than others, so using the number 0.25 as the boundry line to filter correlated features.\n",
    "\n"
   ]
  },
  {
   "cell_type": "code",
   "execution_count": 7,
   "metadata": {},
   "outputs": [],
   "source": [
    "most_corrs = corrs[corrs['SalePrice'] >0.25]"
   ]
  },
  {
   "cell_type": "code",
   "execution_count": 8,
   "metadata": {},
   "outputs": [
    {
     "data": {
      "text/plain": [
       "<matplotlib.axes._subplots.AxesSubplot at 0x7feddf953588>"
      ]
     },
     "execution_count": 8,
     "metadata": {},
     "output_type": "execute_result"
    },
    {
     "data": {
      "image/png": "[encoded data removed]",
      "text/plain": [
       "<matplotlib.figure.Figure at 0x7feddfdfefd0>"
      ]
     },
     "metadata": {},
     "output_type": "display_data"
    }
   ],
   "source": [
    "import seaborn as sns\n",
    "%matplotlib inline\n",
    "ax = plt.figure(figsize=(10,8))\n",
    "ax = sns.heatmap(most_corrs)\n",
    "ax"
   ]
  },
  {
   "cell_type": "code",
   "execution_count": 9,
   "metadata": {},
   "outputs": [],
   "source": [
    "# drop less correlated features\n",
    "drop_less_corrs = corrs[corrs['SalePrice'].abs() < 0.25].index\n",
    "df = df.drop(drop_less_corrs, axis=1)"
   ]
  },
  {
   "cell_type": "markdown",
   "metadata": {},
   "source": [
    "### Categorical features\n",
    "From the above procedures, we have selected strongly correlated numerical features. Next, we should deal with the 'object' features. Clarify which features should be keep and then transfrom them to catergorical type."
   ]
  },
  {
   "cell_type": "code",
   "execution_count": 10,
   "metadata": {},
   "outputs": [],
   "source": [
    "cat_columns = df.select_dtypes(include=['object']).columns\n",
    "#categorical_columns contain less than 10 unique values will be kept\n",
    "\n",
    "drop_columns_1=[]\n",
    "\n",
    "for col in cat_columns:\n",
    "    if len(df[col].value_counts()) >10:\n",
    "        drop_columns_1.append(col)\n",
    "\n",
    "df = df.drop(drop_columns_1, axis=1)   "
   ]
  },
  {
   "cell_type": "code",
   "execution_count": 11,
   "metadata": {},
   "outputs": [
    {
     "data": {
      "text/plain": [
       "['Neighborhood', 'Exterior 1st', 'Exterior 2nd']"
      ]
     },
     "execution_count": 11,
     "metadata": {},
     "output_type": "execute_result"
    }
   ],
   "source": [
    "#drop_columns_1"
   ]
  },
  {
   "cell_type": "code",
   "execution_count": 75,
   "metadata": {
    "collapsed": true
   },
   "outputs": [],
   "source": [
    "# check the remained categorical features, identify of the columns have \n",
    "# a few unique values but more than 95% of the values belong to a specific cat\n",
    "\n",
    "remain_cat_col = df.select_dtypes(include=['object']).columns\n",
    "\n",
    "check_dict ={}\n",
    "for col in remain_cat_col:\n",
    "    check_dict[col] = df[col].value_counts()/len(df)\n",
    "    "
   ]
  },
  {
   "cell_type": "code",
   "execution_count": 80,
   "metadata": {},
   "outputs": [],
   "source": [
    "drop_columns_2 =[]\n",
    "\n",
    "for key, val in check_dict.items():\n",
    "    if val.iloc[0] > 0.9:\n",
    "        drop_columns_2.append(key)\n",
    "        \n",
    "df = df.drop(drop_columns_2, axis=1)"
   ]
  },
  {
   "cell_type": "code",
   "execution_count": 81,
   "metadata": {
    "collapsed": true
   },
   "outputs": [],
   "source": [
    "trans_cat_columns = df.select_dtypes(include=['object']).columns\n",
    "\n",
    "for col in trans_cat_columns:\n",
    "    df[col] = df[col].astype('category')"
   ]
  },
  {
   "cell_type": "markdown",
   "metadata": {},
   "source": [
    "After change the columns' type, we should use the get_dummies() function to make them become dummy variable\n",
    "\n",
    "\n",
    "Dummy variables are useful because they enable us to use a single regression equation to represent multiple groups. This means that we don’t need to write out separate equation models for each subgroup. The dummy variables act like ‘switches’ that turn various parameters on and off in an equation. Another advantage of a 0,1 dummy-coded variable is that even though it is a nominal-level variable you can treat it statistically like an interval-level variable (if this made no sense to you"
   ]
  },
  {
   "cell_type": "markdown",
   "metadata": {},
   "source": [
    "## Updated the select_features function"
   ]
  },
  {
   "cell_type": "code",
   "execution_count": 82,
   "metadata": {
    "collapsed": true
   },
   "outputs": [],
   "source": [
    "def select_features(df):\n",
    "    # numeric columns: drop less correlated columns\n",
    "    numeric_columns = df.select_dtypes(includ=['int','float'])\n",
    "    corrs = numeric_columns.corr()\n",
    "    drop_col_1 = corrs[corrs['SalePrice'].abs() <0.25].index\n",
    "    df = df.drop(drop_col_1, axis=1)\n",
    "    \n",
    "    #categorical columns\n",
    "    category_columns = df.select_dtypes(include=['object']).columns\n",
    "    drop_col_2 = []\n",
    "    for col in category_columns:\n",
    "        if len(df[col].value_counts()) >10: drop_col_2.append(col)\n",
    "    df = df.drop(drop_col_2, axis=1)\n",
    "    \n",
    "    category_columns_new = df.select_dtypes(include=['object']).columns\n",
    "    check_dict={}\n",
    "    drop_col_3 = []\n",
    "    for col in category_columns_new:\n",
    "        check_dict[col] = df[col].value_counts()/len(df[col])\n",
    "    for k, val in check_dict.items():\n",
    "        if val.iloc[0] >0.95:\n",
    "            drop_col_3.append(k)\n",
    "    df = df.drop(drop_col_3, axis=1)\n",
    "    \n",
    "    cat_ = df.select_dtypes(include=['object']).index\n",
    "    for col in cat_:\n",
    "        df[col] = df[col].astype('category')\n",
    "    \n",
    "    # get_ dummies\n",
    "    df = pd.concat([df,pd.get_dummies(df.select_dtypes(include=['object']))], axis=1)\n",
    "    df = df.drop(cat_, axis=1)\n",
    "        \n",
    "\n",
    "    return df\n",
    "\n"
   ]
  },
  {
   "cell_type": "markdown",
   "metadata": {},
   "source": [
    "## Train and test model"
   ]
  },
  {
   "cell_type": "code",
   "execution_count": 84,
   "metadata": {},
   "outputs": [],
   "source": [
    "from sklearn.metrics import mean_squared_error\n",
    "from sklearn import linear_model\n",
    "from sklearn.model_selection import KFold\n",
    "from sklearn.model_selection import cross_val_score\n",
    "\n",
    "def train_and_test(df,k):\n",
    "    numerics = df.select_dtypes(includ=['int','float'])\n",
    "    features = numerics.drop(['SalePrice'], axis=1)\n",
    "    lr = linear_model.LinearRegression()\n",
    "    \n",
    "    if k == 0:\n",
    "        train = df[:1460]\n",
    "        test = df[1460:]\n",
    "        lr.fit(df[features], df['SalePrice'])\n",
    "        predictions = lr.predict(test[features])\n",
    "        mse = mean_squared_error(test['SalePrice'],predictions)\n",
    "        rmse = np.sqrt(mse)\n",
    "    \n",
    "    if k == 1:\n",
    "        # shuffle the DataFrame rows\n",
    "        df = df.sample(frac=1)\n",
    "        train = df[:1460]\n",
    "        test = df[1460:]\n",
    "        \n",
    "        lr.fit(train[features], train['SalePrice'])\n",
    "        predictions_1 = lr.predict(test[features])\n",
    "        mse_1 = mean_squared_error(test[features],predictions_1)\n",
    "        rmse_1 = np.sqrt(mse_1)\n",
    "        \n",
    "        lr.fit(test[features], test['SalePrice'])\n",
    "        predictions_2 = lr.predict(train[features])\n",
    "        mse_2 = mean_squared_error(train['SalePrice'], predictions_2)\n",
    "        rmse_2 = np.sqrt(mse_2)\n",
    "        \n",
    "        avg_mse = np.mean(rmse_1,rmse_2)\n",
    "        return avg_mse\n",
    "    \n",
    "    else: \n",
    "        kf = KFold(n_splits=k, shuffle = True, random_state=1)\n",
    "        mse = cross_val_score(lr, df[features], df['SalePrice'],\n",
    "                              scoring='neg_mean_squared_error',cv=kf)\n",
    "        rmse = np.sqrt(mse)\n",
    "        avg_rmse = np.mean(rmse)\n",
    "        \n",
    "        return avg_rmse\n",
    "    \n",
    "    "
   ]
  },
  {
   "cell_type": "markdown",
   "metadata": {},
   "source": [
    "# Final Version: Combining the functions together"
   ]
  },
  {
   "cell_type": "code",
   "execution_count": 12,
   "metadata": {},
   "outputs": [],
   "source": [
    "import pandas as pd\n",
    "import numpy as np\n",
    "import matplotlib.pyplot as plt\n",
    "from sklearn.metrics import mean_squared_error\n",
    "from sklearn import linear_model\n",
    "from sklearn.model_selection import KFold\n",
    "from sklearn.model_selection import cross_val_score\n",
    "\n",
    "\n",
    "def transform_features(df):\n",
    "    # drop all columns with over 5% missing values\n",
    "    all_missing = df.isnull().sum()\n",
    "    drop_all = all_missing[all_missing > len(df)*0.05]\n",
    "    df = df.drop(drop_all.index, axis=1)\n",
    "    \n",
    "    # drop 'object' columns with one or more missing values\n",
    "    text_missing = df.select_dtypes(include=['object']).isnull().sum()\n",
    "    drop_text = text_missing[text_missing > 0]\n",
    "    df = df.drop(drop_text.index, axis=1)\n",
    "    \n",
    "    # fill numeric columns' missing values with most common value\n",
    "    num_missing = df.select_dtypes(include=['int','float']).isnull().sum()\n",
    "    num_filling = num_missing[num_missing > 0]\n",
    "    fill_value = df[num_filling.index].mode().to_dict(orient='records')[0]\n",
    "    df = df.fillna(fill_value)\n",
    "    \n",
    "    #create new features\n",
    "    df['years_to_sell'] = df['Yr Sold'] - df['Year Built']\n",
    "    df['years_until_remod'] = years_remod = df['Yr Sold'] - df['Year Remod/Add']  \n",
    "    df = df.drop([1702, 2180, 2181], axis=0)\n",
    "\n",
    "    # drop columns aren't useful for machine learning and leak info of final sale\n",
    "    useless_columns = [\"PID\", \"Order\", \"Mo Sold\", \"Sale Condition\", \n",
    "                       \"Sale Type\", \"Year Built\", \"Year Remod/Add\"]\n",
    "    df = df.drop(useless_columns, axis=1)\n",
    "    \n",
    "    return df\n",
    "\n",
    "def select_features(df):\n",
    "    # numeric columns: drop less correlated columns\n",
    "    numeric_columns = df.select_dtypes(include=['int','float'])\n",
    "    corrs = numeric_columns.corr()\n",
    "    drop_col_1 = corrs[corrs['SalePrice'].abs() < 0.25].index\n",
    "    df = df.drop(drop_col_1, axis=1)\n",
    "    \n",
    "    #categorical columns\n",
    "    category_columns = df.select_dtypes(include=['object']).columns\n",
    "    drop_col_2 = []\n",
    "    for col in category_columns:\n",
    "        if len(df[col].value_counts()) > 10: \n",
    "            drop_col_2.append(col)\n",
    "            \n",
    "    df = df.drop(drop_col_2, axis=1)\n",
    "    \n",
    "    category_columns_new = df.select_dtypes(include=['object']).columns\n",
    "    check_dict={}\n",
    "    drop_col_3 = []\n",
    "    for col in category_columns_new:\n",
    "        check_dict[col] = df[col].value_counts()/len(df[col])\n",
    "    for k, val in check_dict.items():\n",
    "        if val.iloc[0] >0.95:\n",
    "            drop_col_3.append(k)\n",
    "    df = df.drop(drop_col_3, axis=1)\n",
    "    \n",
    "    cat_ = df.select_dtypes(include=['object']).columns\n",
    "    for col in cat_:\n",
    "        df[col] = df[col].astype('category')\n",
    "    \n",
    "    # get_ dummies\n",
    "    df = pd.concat([df, pd.get_dummies(df.select_dtypes(include=['category']))], axis=1)\n",
    "         \n",
    "    df = df.drop(cat_, axis=1)\n",
    "\n",
    "    return df\n",
    "\n",
    "def train_and_test(df, k):\n",
    "    numerics = df.select_dtypes(include=['int','float','uint8']) # Using dummy variables\n",
    "    features = numerics.drop(['SalePrice'], axis=1).columns\n",
    "    lr = linear_model.LinearRegression()\n",
    "    \n",
    "    if k == 0:\n",
    "        train = df[:1460]\n",
    "        test = df[1460:]\n",
    "        lr.fit(df[features], df['SalePrice'])\n",
    "        predictions = lr.predict(test[features])\n",
    "        mse = mean_squared_error(test['SalePrice'],predictions)\n",
    "        rmse = np.sqrt(mse)\n",
    "    \n",
    "    if k == 1:\n",
    "        # shuffle the DataFrame rows\n",
    "        df = df.sample(frac=1)\n",
    "        train = df[:1460]\n",
    "        test = df[1460:]\n",
    "        \n",
    "        lr.fit(train[features], train['SalePrice'])\n",
    "        predictions_1 = lr.predict(test[features])\n",
    "        mse_1 = mean_squared_error(test[features],predictions_1)\n",
    "        rmse_1 = np.sqrt(mse_1)\n",
    "        \n",
    "        lr.fit(test[features], test['SalePrice'])\n",
    "        predictions_2 = lr.predict(train[features])\n",
    "        mse_2 = mean_squared_error(train['SalePrice'], predictions_2)\n",
    "        rmse_2 = np.sqrt(mse_2)\n",
    "        \n",
    "        avg_mse = np.mean(rmse_1,rmse_2)\n",
    "        return avg_mse\n",
    "    \n",
    "    else: \n",
    "        kf = KFold(n_splits=k, shuffle = True, random_state=1)\n",
    "        mse = cross_val_score(lr, df[features], df['SalePrice'],\n",
    "                              scoring='neg_mean_squared_error',cv=kf)\n",
    "        mse = np.abs(mse).mean()\n",
    "        rmse = np.sqrt(mse)\n",
    "        \n",
    "        return rmse\n",
    "    \n",
    "    "
   ]
  },
  {
   "cell_type": "code",
   "execution_count": 13,
   "metadata": {},
   "outputs": [],
   "source": [
    "df = pd.read_csv(\"AmesHousing.txt\", delimiter=\"\\t\")\n",
    "transform_df = transform_features(df)\n",
    "filtered_df = select_features(transform_df)\n",
    "rmse = train_and_test(filtered_df, k=3)"
   ]
  },
  {
   "cell_type": "code",
   "execution_count": 14,
   "metadata": {},
   "outputs": [
    {
     "data": {
      "text/plain": [
       "29047.769231157108"
      ]
     },
     "execution_count": 14,
     "metadata": {},
     "output_type": "execute_result"
    }
   ],
   "source": [
    "rmse"
   ]
  },
  {
   "cell_type": "code",
   "execution_count": null,
   "metadata": {
    "collapsed": true
   },
   "outputs": [],
   "source": []
  }
 ],
 "metadata": {
  "anaconda-cloud": {},
  "kernelspec": {
   "display_name": "Python 3",
   "language": "python",
   "name": "python3"
  },
  "language_info": {
   "codemirror_mode": {
    "name": "ipython",
    "version": 3
   },
   "file_extension": ".py",
   "mimetype": "text/x-python",
   "name": "python",
   "nbconvert_exporter": "python",
   "pygments_lexer": "ipython3",
   "version": "3.8.5"
  }
 },
 "nbformat": 4,
 "nbformat_minor": 2
}
